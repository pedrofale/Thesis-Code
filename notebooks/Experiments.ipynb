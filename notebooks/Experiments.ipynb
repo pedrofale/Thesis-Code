{
 "cells": [
  {
   "cell_type": "code",
   "execution_count": 1,
   "metadata": {},
   "outputs": [],
   "source": [
    "import numpy as np\n",
    "from scipy.stats import multivariate_normal, invwishart, invgamma, wishart, dirichlet, norm\n",
    "import matplotlib.pyplot as plt\n",
    "import seaborn as sns"
   ]
  },
  {
   "cell_type": "markdown",
   "metadata": {},
   "source": [
    "# Synthetic data"
   ]
  },
  {
   "cell_type": "markdown",
   "metadata": {},
   "source": [
    "## Sample generation"
   ]
  },
  {
   "cell_type": "code",
   "execution_count": 2,
   "metadata": {},
   "outputs": [
    {
     "data": {
      "image/png": "[encoded data removed]",
      "text/plain": [
       "<matplotlib.figure.Figure at 0x7f05f5f27bd0>"
      ]
     },
     "metadata": {},
     "output_type": "display_data"
    },
    {
     "name": "stdout",
     "output_type": "stream",
     "text": [
      "pi: [[ 0.0641794 ]\n",
      " [ 0.83623738]\n",
      " [ 0.09958322]]\n",
      "\n",
      "mu: [[ 15.8361384   16.21914323]\n",
      " [ 10.6536817   11.72959641]\n",
      " [  9.07517945   7.73238431]]\n",
      "\n",
      "cov: [[[  0.64320211   0.77569616]\n",
      "  [  0.77569616   0.94345915]]\n",
      "\n",
      " [[ 12.55528783  14.8679709 ]\n",
      "  [ 14.8679709   17.61622682]]\n",
      "\n",
      " [[  2.00402046   1.90864978]\n",
      "  [  1.90864978   1.82315897]]]\n",
      "\n",
      "assigment counts 0: 62\n",
      "assigment counts 1: 849\n",
      "assigment counts 2: 89\n"
     ]
    }
   ],
   "source": [
    "N = 1000\n",
    "d = 2\n",
    "K = 3\n",
    "\n",
    "X = multivariate_normal.rvs(mean=[0., 0.], cov=2*np.eye(2), size = N)\n",
    "\n",
    "X_mean = np.mean(X, axis=0)\n",
    "X_cov = np.cov(X.T)\n",
    "X_cov_inv = np.linalg.inv(X_cov)\n",
    "\n",
    "# Hyperparameters\n",
    "mulinha = multivariate_normal.rvs(mean=X_mean, cov=X_cov)\n",
    "Sigmalinha = invwishart.rvs(df=d, scale=d * X_cov)\n",
    "Hlinha = wishart.rvs(df=d, scale=X_cov / d)\n",
    "sigmalinha = invgamma.rvs(1, 1/d) + d\n",
    "\n",
    "# Parameters\n",
    "mu = multivariate_normal.rvs(mean=mulinha, cov=Sigmalinha, size=K).reshape(K, d)\n",
    "cov_inv = wishart.rvs(df=sigmalinha, scale=np.linalg.inv(Hlinha), size=K).reshape(K, d, d)\n",
    "cov = np.linalg.inv(cov_inv)\n",
    "\n",
    "alpha = invgamma.rvs(1, 1)\n",
    "pi = dirichlet.rvs(alpha/K * np.ones((K, ))).T\n",
    "#pi = np.array([0.3, 0.3, 0.4])\n",
    "ups = 0\n",
    "delta_sq = 2\n",
    "omega = 1\n",
    "theta = 1\n",
    "\n",
    "z = np.ones((N, ))\n",
    "phi = np.ones((N, ))\n",
    "beta = np.ones((N, ))\n",
    "\n",
    "for n in range(N):\n",
    "    # select one of the clusters\n",
    "    k = np.random.choice(range(K), p=pi.ravel())\n",
    "    z[n] = k\n",
    "    \n",
    "    # sample scaling parameters\n",
    "    phi[n] = norm.rvs(ups, delta_sq)\n",
    "    beta[n] = invgamma.rvs(omega, theta)\n",
    "    \n",
    "    # sample an observation\n",
    "    X[n] = multivariate_normal.rvs(mean=phi[n] * mu[k], cov=beta[n] * cov[k])\n",
    "    \n",
    "plt.scatter(X[:, 0], X[:, 1])\n",
    "plt.axis([-20, 20, -20, 20])\n",
    "plt.show()\n",
    "\n",
    "print(\"pi: \" + str(pi))\n",
    "print(\"\")\n",
    "print(\"mu: \" + str(mu))\n",
    "print(\"\")\n",
    "print(\"cov: \" + str(cov))\n",
    "print(\"\")\n",
    "for i in range(K):\n",
    "    print(\"assigment counts \" + str(i) + \": \" + str(np.count_nonzero(z == i)))"
   ]
  },
  {
   "cell_type": "markdown",
   "metadata": {},
   "source": [
    "## Clustering\n",
    "Fit a DPMM with scalings to the generated data and evaluate the obtained clustering with a confusion matrix."
   ]
  },
  {
   "cell_type": "code",
   "execution_count": null,
   "metadata": {},
   "outputs": [],
   "source": []
  }
 ],
 "metadata": {
  "kernelspec": {
   "display_name": "Python 2",
   "language": "python",
   "name": "python2"
  },
  "language_info": {
   "codemirror_mode": {
    "name": "ipython",
    "version": 2
   },
   "file_extension": ".py",
   "mimetype": "text/x-python",
   "name": "python",
   "nbconvert_exporter": "python",
   "pygments_lexer": "ipython2",
   "version": "2.7.12"
  }
 },
 "nbformat": 4,
 "nbformat_minor": 2
}
