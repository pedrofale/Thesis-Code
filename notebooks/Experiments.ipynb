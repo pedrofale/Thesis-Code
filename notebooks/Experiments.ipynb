{
 "cells": [
  {
   "cell_type": "markdown",
   "metadata": {},
   "source": [
    "# Imports"
   ]
  },
  {
   "cell_type": "code",
   "execution_count": 27,
   "metadata": {},
   "outputs": [],
   "source": [
    "import numpy as np\n",
    "from scipy.stats import multivariate_normal\n",
    "import matplotlib.pyplot as plt\n",
    "\n",
    "# To import from this project\n",
    "import sys\n",
    "sys.path.insert(0, '..')\n",
    "\n",
    "from models.dpgmm import DPGMM"
   ]
  },
  {
   "cell_type": "markdown",
   "metadata": {},
   "source": [
    "# Sample generation\n",
    "Generate samples from a DPGMM with random parameters."
   ]
  },
  {
   "cell_type": "code",
   "execution_count": 33,
   "metadata": {},
   "outputs": [
    {
     "data": {
      "image/png": "[encoded data removed]",
      "text/plain": [
       "<matplotlib.figure.Figure at 0x7f9261cdd710>"
      ]
     },
     "metadata": {},
     "output_type": "display_data"
    },
    {
     "name": "stdout",
     "output_type": "stream",
     "text": [
      "pi: [[ 0.09392322]\n",
      " [ 0.10839554]\n",
      " [ 0.79768124]]\n",
      "\n",
      "mu: [[ 0.81390622 -1.30424917]\n",
      " [ 0.04861925  3.42821529]\n",
      " [-0.6714601   0.75682832]]\n",
      "\n",
      "cov: [[[ 0.09111677  0.06150049]\n",
      "  [ 0.06150049  0.05657999]]\n",
      "\n",
      " [[ 1.66687538  1.42186311]\n",
      "  [ 1.42186311  1.21923765]]\n",
      "\n",
      " [[ 0.05592352  0.05249207]\n",
      "  [ 0.05249207  0.05135281]]]\n",
      "\n",
      "assigment counts 0: 45\n",
      "assigment counts 1: 54\n",
      "assigment counts 2: 401\n"
     ]
    }
   ],
   "source": [
    "# Settings\n",
    "N = 500\n",
    "d = 2\n",
    "K = 3\n",
    "\n",
    "# Feed\n",
    "X = multivariate_normal.rvs(mean=[0., 0.], cov=np.eye(2), size = N)\n",
    "\n",
    "# Create a random DPGMM and sample from it\n",
    "dpgmm = DPGMM()\n",
    "dpgmm.set_random_parameters(X, K)\n",
    "X = dpgmm.sample(N, sort=True)\n",
    "\n",
    "# Plot samples\n",
    "fig = plt.figure(figsize=(5,5))\n",
    "plt.scatter(X[:, 0], X[:, 1])\n",
    "plt.axis([-10, 10, -10, 10])\n",
    "plt.show()\n",
    "\n",
    "print(\"pi: \" + str(dpgmm.pi))\n",
    "print(\"\")\n",
    "print(\"mu: \" + str(dpgmm.mu))\n",
    "print(\"\")\n",
    "print(\"cov: \" + str(dpgmm.cov))\n",
    "print(\"\")\n",
    "for i in range(dpgmm.K_active):\n",
    "    print(\"assigment counts \" + str(i) + \": \" + str(np.count_nonzero(dpgmm.z == i)))"
   ]
  },
  {
   "cell_type": "code",
   "execution_count": 34,
   "metadata": {},
   "outputs": [],
   "source": [
    "cm_true = np.zeros((N, N))\n",
    "cm_true = dpgmm.update_confusion_matrix(cm_true)"
   ]
  },
  {
   "cell_type": "code",
   "execution_count": 35,
   "metadata": {},
   "outputs": [
    {
     "data": {
      "image/png": "[encoded data removed]",
      "text/plain": [
       "<matplotlib.figure.Figure at 0x7f9262aec7d0>"
      ]
     },
     "metadata": {},
     "output_type": "display_data"
    }
   ],
   "source": [
    "plt.matshow(cm_true)\n",
    "plt.title('True', size=20)\n",
    "ax = plt.gca()\n",
    "ttl = ax.title\n",
    "ttl.set_position([.5, 1.10])\n",
    "plt.show()"
   ]
  },
  {
   "cell_type": "markdown",
   "metadata": {},
   "source": [
    "## Clustering\n",
    "Fit a DPGMM to the generated data and evaluate the obtained clustering with a confusion matrix."
   ]
  },
  {
   "cell_type": "code",
   "execution_count": 36,
   "metadata": {},
   "outputs": [
    {
     "name": "stderr",
     "output_type": "stream",
     "text": [
      "100%|██████████| 150/150 [01:37<00:00,  1.53it/s]\n"
     ]
    }
   ],
   "source": [
    "cm = dpgmm.fit(X, n_iterations=150, n_burnin=100, return_cm=True)"
   ]
  },
  {
   "cell_type": "code",
   "execution_count": 38,
   "metadata": {},
   "outputs": [
    {
     "data": {
      "image/png": "[encoded data removed]",
      "text/plain": [
       "<matplotlib.figure.Figure at 0x7f9261d1aa90>"
      ]
     },
     "metadata": {},
     "output_type": "display_data"
    },
    {
     "name": "stdout",
     "output_type": "stream",
     "text": [
      "K_active: 3\n",
      "pi: [[ 0.7820499 ]\n",
      " [ 0.10668872]\n",
      " [ 0.11126137]]\n",
      "\n",
      "mu: [[-0.68701528  0.7325503 ]\n",
      " [ 0.72016066 -1.29629563]\n",
      " [ 0.20713102  3.53014321]]\n",
      "\n",
      "cov: [[[ 0.09135517  0.02940468]\n",
      "  [ 0.02940468  0.07219301]]\n",
      "\n",
      " [[ 0.28493393 -0.13047143]\n",
      "  [-0.13047143  0.14362952]]\n",
      "\n",
      " [[ 1.48749836  0.89971813]\n",
      "  [ 0.89971813  0.80786509]]]\n",
      "\n",
      "assigment counts 0: 400\n",
      "assigment counts 1: 51\n",
      "assigment counts 2: 49\n"
     ]
    }
   ],
   "source": [
    "# Sample from the fitted DPGMM\n",
    "X = dpgmm.sample(N)\n",
    "    \n",
    "# Plot samples to compare with the original data\n",
    "fig = plt.figure(figsize=(5,5))\n",
    "plt.scatter(X[:, 0], X[:, 1])\n",
    "plt.axis([-10, 10, -10, 10])\n",
    "plt.show()\n",
    "\n",
    "print(\"K_active: \" + str(dpgmm.K_active))\n",
    "print(\"pi: \" + str(dpgmm.pi))\n",
    "print(\"\")\n",
    "print(\"mu: \" + str(dpgmm.mu))\n",
    "print(\"\")\n",
    "print(\"cov: \" + str(dpgmm.cov))\n",
    "print(\"\")\n",
    "for i in range(dpgmm.K_active):\n",
    "    print(\"assigment counts \" + str(i) + \": \" + str(np.count_nonzero(dpgmm.z == i)))"
   ]
  },
  {
   "cell_type": "code",
   "execution_count": 39,
   "metadata": {},
   "outputs": [
    {
     "data": {
      "image/png": "[encoded data removed]",
      "text/plain": [
       "<matplotlib.figure.Figure at 0x7f9262a44e90>"
      ]
     },
     "metadata": {},
     "output_type": "display_data"
    }
   ],
   "source": [
    "plt.matshow(cm)\n",
    "plt.title('HDPGMM', size=20)\n",
    "ax = plt.gca()\n",
    "ttl = ax.title\n",
    "ttl.set_position([.5, 1.10])\n",
    "plt.show()"
   ]
  }
 ],
 "metadata": {
  "kernelspec": {
   "display_name": "Python 2",
   "language": "python",
   "name": "python2"
  },
  "language_info": {
   "codemirror_mode": {
    "name": "ipython",
    "version": 2
   },
   "file_extension": ".py",
   "mimetype": "text/x-python",
   "name": "python",
   "nbconvert_exporter": "python",
   "pygments_lexer": "ipython2",
   "version": "2.7.12"
  }
 },
 "nbformat": 4,
 "nbformat_minor": 2
}
